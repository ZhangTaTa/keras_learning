{
  "nbformat": 4,
  "nbformat_minor": 0,
  "metadata": {
    "colab": {
      "name": "img_classification.ipynb",
      "provenance": [],
      "authorship_tag": "ABX9TyNi/T2j5q8LJcqmgxarCzFm",
      "include_colab_link": true
    },
    "kernelspec": {
      "name": "python3",
      "display_name": "Python 3"
    },
    "accelerator": "GPU"
  },
  "cells": [
    {
      "cell_type": "markdown",
      "metadata": {
        "id": "view-in-github",
        "colab_type": "text"
      },
      "source": [
        "<a href=\"https://colab.research.google.com/github/ZhangTaTa/keras_learning/blob/master/img_classification.ipynb\" target=\"_parent\"><img src=\"https://colab.research.google.com/assets/colab-badge.svg\" alt=\"Open In Colab\"/></a>"
      ]
    },
    {
      "cell_type": "code",
      "metadata": {
        "id": "o3B7WfJkhln5",
        "colab_type": "code",
        "outputId": "9f15863a-eb66-40cf-b606-54981752c5c0",
        "colab": {
          "base_uri": "https://localhost:8080/",
          "height": 35
        }
      },
      "source": [
        "import numpy as np\n",
        "from keras.datasets import mnist\n",
        "from keras.utils import np_utils\n",
        "from keras.models import Sequential\n",
        "from keras.layers import Dense, Activation, MaxPooling2D, Flatten, Conv2D\n",
        "from keras.optimizers import Adam\n",
        "from keras.optimizers import RMSprop"
      ],
      "execution_count": 0,
      "outputs": [
        {
          "output_type": "stream",
          "text": [
            "Using TensorFlow backend.\n"
          ],
          "name": "stderr"
        }
      ]
    },
    {
      "cell_type": "code",
      "metadata": {
        "id": "UOFM3R8DhuDD",
        "colab_type": "code",
        "colab": {}
      },
      "source": [
        "np.random.seed(1337)  # for reproducibility"
      ],
      "execution_count": 0,
      "outputs": []
    },
    {
      "cell_type": "markdown",
      "metadata": {
        "id": "0q55Kslc7xJO",
        "colab_type": "text"
      },
      "source": [
        "更新TensorFlow到最新版"
      ]
    },
    {
      "cell_type": "code",
      "metadata": {
        "id": "yx5_psIUQFj8",
        "colab_type": "code",
        "outputId": "af7075bf-3b95-4a7e-c223-c22b80920dde",
        "colab": {
          "base_uri": "https://localhost:8080/",
          "height": 35
        }
      },
      "source": [
        "import tensorflow as tf\n",
        "tf.__version__"
      ],
      "execution_count": 0,
      "outputs": [
        {
          "output_type": "execute_result",
          "data": {
            "text/plain": [
              "'2.2.0-rc4'"
            ]
          },
          "metadata": {
            "tags": []
          },
          "execution_count": 3
        }
      ]
    },
    {
      "cell_type": "code",
      "metadata": {
        "id": "jmMFajfvTdim",
        "colab_type": "code",
        "colab": {}
      },
      "source": [
        "# !pip install --upgrade tensorflow"
      ],
      "execution_count": 0,
      "outputs": []
    },
    {
      "cell_type": "markdown",
      "metadata": {
        "id": "XwOYjM2zh7io",
        "colab_type": "text"
      },
      "source": [
        "加载数据"
      ]
    },
    {
      "cell_type": "code",
      "metadata": {
        "id": "TLcxCLIMh9gA",
        "colab_type": "code",
        "colab": {}
      },
      "source": [
        "X = np.load(\"imgDataMatrix.npy\", allow_pickle=True)\n",
        "Y = np.load(\"imgNameMatrix.npy\", allow_pickle=True)"
      ],
      "execution_count": 0,
      "outputs": []
    },
    {
      "cell_type": "code",
      "metadata": {
        "id": "mYt8A9pdRSNt",
        "colab_type": "code",
        "outputId": "211d75c6-f25a-4ea3-e966-21fce8ec8e1e",
        "colab": {
          "base_uri": "https://localhost:8080/",
          "height": 52
        }
      },
      "source": [
        "print(Y.shape)\n",
        "print(X.shape)"
      ],
      "execution_count": 0,
      "outputs": [
        {
          "output_type": "stream",
          "text": [
            "(3647, 1)\n",
            "(3647, 30000)\n"
          ],
          "name": "stdout"
        }
      ]
    },
    {
      "cell_type": "markdown",
      "metadata": {
        "id": "fKCzMuPmiBYP",
        "colab_type": "text"
      },
      "source": [
        "随机分类train和test（8:2）"
      ]
    },
    {
      "cell_type": "code",
      "metadata": {
        "id": "IqwkIEP_h__4",
        "colab_type": "code",
        "colab": {}
      },
      "source": [
        "ran = np.random.random(size=(len(Y), 1))\n",
        "trainList = ran > 0.2\n",
        "testList = ran <= 0.2\n",
        "dataRow = np.concatenate((X, Y, trainList), axis=1)\n",
        "X_train = dataRow[dataRow[:, X.shape[1]+1] == True][:, 0:X.shape[1]]\n",
        "Y_train = dataRow[dataRow[:, X.shape[1]+1] == True][:, X.shape[1]]\n",
        "X_test = dataRow[dataRow[:, X.shape[1]+1] == False][:, 0:X.shape[1]]\n",
        "Y_test = dataRow[dataRow[:, X.shape[1]+1] == False][:, X.shape[1]]"
      ],
      "execution_count": 0,
      "outputs": []
    },
    {
      "cell_type": "markdown",
      "metadata": {
        "id": "cIg4D9-8hyRw",
        "colab_type": "text"
      },
      "source": [
        "CNN模型"
      ]
    },
    {
      "cell_type": "code",
      "metadata": {
        "id": "8SQ0FiQkh0QS",
        "colab_type": "code",
        "colab": {}
      },
      "source": [
        "# 数据预处理（size：100×100，RGB格式）\n",
        "X_train = X_train.reshape(-1, 3, 100, 100) / 255.\n",
        "X_test = X_test.reshape(-1, 3, 100, 100) / 255.\n",
        "Y_train = np_utils.to_categorical(Y_train, num_classes=2)\n",
        "Y_test = np_utils.to_categorical(Y_test, num_classes=2)\n",
        "# 输入改成(100, 100, 3) 手动channels_last\n",
        "X_train = np.moveaxis(X_train, 1, -1)\n",
        "X_test = np.moveaxis(X_test, 1, -1)"
      ],
      "execution_count": 0,
      "outputs": []
    },
    {
      "cell_type": "code",
      "metadata": {
        "id": "zvvQVLDCSCTM",
        "colab_type": "code",
        "outputId": "cede616b-59b0-4cc8-b5a3-d675c582ec24",
        "colab": {
          "base_uri": "https://localhost:8080/",
          "height": 52
        }
      },
      "source": [
        "print(Y_test.shape)\n",
        "print(X_test.shape)"
      ],
      "execution_count": 0,
      "outputs": [
        {
          "output_type": "stream",
          "text": [
            "(700, 2)\n",
            "(700, 100, 100, 3)\n"
          ],
          "name": "stdout"
        }
      ]
    },
    {
      "cell_type": "code",
      "metadata": {
        "id": "xkP2k5k-8fNE",
        "colab_type": "code",
        "colab": {}
      },
      "source": [
        "# 建立模型\n",
        "model = Sequential()\n",
        "\n",
        "# Conv layer 1; output shape (32, 96, 96)\n",
        "model.add(Conv2D(\n",
        "    input_shape=(100, 100, 3),\n",
        "    filters=32,   # 过滤器个数\n",
        "    kernel_size=5,    # 卷积核尺寸\n",
        "    padding='same',   # Padding method 避免数据丢失的东西\n",
        "    activation='relu'))\n",
        "\n",
        "# Pooling layer 1 (max pooling); output shape (32, 48, 48)\n",
        "model.add(MaxPooling2D(\n",
        "    pool_size=(2, 2)))\n",
        "\n",
        "# Conv layer 2; output shape (64, 44, 44)\n",
        "model.add(Conv2D(\n",
        "    filters=64,\n",
        "    kernel_size=5,\n",
        "    padding='same',\n",
        "    activation='relu'))\n",
        "\n",
        "# Pooling layer 2 (max pooling); output shape (64, 22, 22)\n",
        "model.add(MaxPooling2D(\n",
        "    pool_size=(2, 2)))\n",
        "\n",
        "# Fully connected layer 1 input shape (64 * 22 * 22) = (30976), output shape (1024)\n",
        "model.add(Flatten())    # 将输入展平\n",
        "model.add(Dense(units=1024, activation='relu'))\n",
        "\n",
        "# Fully connected layer 1 input shape (1024), output shape (2)\n",
        "model.add(Dense(units=2, activation='relu'))\n",
        "\n",
        "# Another way to define your optimizer\n",
        "adam = Adam(lr=3e-5)  # 一种自适应的梯度下降优化器 https://www.jianshu.com/p/aebcaf8af76e\n",
        "\n",
        "# We add metrics to get more results you want to see\n",
        "model.compile(loss='categorical_crossentropy',\n",
        "              optimizer='adam',\n",
        "              metrics=['accuracy'])"
      ],
      "execution_count": 0,
      "outputs": []
    },
    {
      "cell_type": "code",
      "metadata": {
        "id": "TS9lcbX9MyKs",
        "colab_type": "code",
        "outputId": "4598c8a6-b4e6-41f7-95f9-0b08a79371ab",
        "colab": {
          "base_uri": "https://localhost:8080/",
          "height": 329
        }
      },
      "source": [
        "# 训练模型\n",
        "print('Training ------------')\n",
        "# Another way to train the model\n",
        "model.fit(X_train, Y_train, epochs=5, batch_size=64)\n",
        "\n",
        "print('\\nTesting ------------')\n",
        "# Evaluate the model with the metrics we defined earlier\n",
        "loss, accuracy = model.evaluate(X_test, Y_test)\n",
        "\n",
        "print('\\ntest loss: ', loss)\n",
        "print('\\ntest accuracy: ', accuracy)"
      ],
      "execution_count": 0,
      "outputs": [
        {
          "output_type": "stream",
          "text": [
            "Training ------------\n",
            "Epoch 1/5\n",
            "2947/2947 [==============================] - 3s 1ms/step - loss: 0.8477 - accuracy: 0.6834\n",
            "Epoch 2/5\n",
            "2947/2947 [==============================] - 2s 548us/step - loss: 0.5338 - accuracy: 0.7533\n",
            "Epoch 3/5\n",
            "2947/2947 [==============================] - 2s 554us/step - loss: 0.4857 - accuracy: 0.7832\n",
            "Epoch 4/5\n",
            "2947/2947 [==============================] - 2s 556us/step - loss: 0.4461 - accuracy: 0.8045\n",
            "Epoch 5/5\n",
            "2947/2947 [==============================] - 2s 549us/step - loss: 0.4405 - accuracy: 0.8096\n",
            "\n",
            "Testing ------------\n",
            "700/700 [==============================] - 0s 387us/step\n",
            "\n",
            "test loss:  0.567700183050973\n",
            "\n",
            "test accuracy:  0.8042857050895691\n"
          ],
          "name": "stdout"
        }
      ]
    }
  ]
}