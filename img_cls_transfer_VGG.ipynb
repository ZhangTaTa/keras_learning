{
  "nbformat": 4,
  "nbformat_minor": 0,
  "metadata": {
    "colab": {
      "name": "img_cls_transfer_VGG.ipynb",
      "provenance": [],
      "mount_file_id": "1SqWX7zoSQ5HjQMw4HMMdOcNdyB_ThgP4",
      "authorship_tag": "ABX9TyPL3uZ8ZZkZerHWrFMQlDyN",
      "include_colab_link": true
    },
    "kernelspec": {
      "name": "python3",
      "display_name": "Python 3"
    }
  },
  "cells": [
    {
      "cell_type": "markdown",
      "metadata": {
        "id": "view-in-github",
        "colab_type": "text"
      },
      "source": [
        "<a href=\"https://colab.research.google.com/github/ZhangTaTa/keras_learning/blob/master/img_cls_transfer_VGG.ipynb\" target=\"_parent\"><img src=\"https://colab.research.google.com/assets/colab-badge.svg\" alt=\"Open In Colab\"/></a>"
      ]
    },
    {
      "cell_type": "markdown",
      "metadata": {
        "id": "CX39zbpd0-YD",
        "colab_type": "text"
      },
      "source": [
        "【数据格式】\n",
        "\n",
        "本代码原始数据为上传至Google drive的npy文件。\n",
        "\n",
        "经过分组、预处理后可进入神经网络。"
      ]
    },
    {
      "cell_type": "code",
      "metadata": {
        "id": "NWM7tCdS_WVY",
        "colab_type": "code",
        "colab": {
          "base_uri": "https://localhost:8080/",
          "height": 35
        },
        "outputId": "219ef97b-2264-444e-b2aa-d1609273cbab"
      },
      "source": [
        "import numpy as np\n",
        "import keras\n",
        "from keras.preprocessing.image import ImageDataGenerator\n",
        "from keras.utils import np_utils\n",
        "\n",
        "np.random.seed(1337)  # for reproducibility"
      ],
      "execution_count": null,
      "outputs": [
        {
          "output_type": "stream",
          "text": [
            "Using TensorFlow backend.\n"
          ],
          "name": "stderr"
        }
      ]
    },
    {
      "cell_type": "code",
      "metadata": {
        "id": "yt4IYCFTFSAf",
        "colab_type": "code",
        "colab": {}
      },
      "source": [
        "from keras.applications import VGG16\n",
        "\n",
        "conv_base = VGG16(weights='imagenet',\n",
        "                  include_top=False,\n",
        "                  input_shape=(100, 100, 3))"
      ],
      "execution_count": null,
      "outputs": []
    },
    {
      "cell_type": "code",
      "metadata": {
        "id": "f03jLl6oJ02c",
        "colab_type": "code",
        "colab": {
          "base_uri": "https://localhost:8080/",
          "height": 815
        },
        "outputId": "d63090d4-a256-4aaf-fce1-7d0c91676015"
      },
      "source": [
        "conv_base.summary()"
      ],
      "execution_count": null,
      "outputs": [
        {
          "output_type": "stream",
          "text": [
            "Model: \"vgg16\"\n",
            "_________________________________________________________________\n",
            "Layer (type)                 Output Shape              Param #   \n",
            "=================================================================\n",
            "input_1 (InputLayer)         (None, 100, 100, 3)       0         \n",
            "_________________________________________________________________\n",
            "block1_conv1 (Conv2D)        (None, 100, 100, 64)      1792      \n",
            "_________________________________________________________________\n",
            "block1_conv2 (Conv2D)        (None, 100, 100, 64)      36928     \n",
            "_________________________________________________________________\n",
            "block1_pool (MaxPooling2D)   (None, 50, 50, 64)        0         \n",
            "_________________________________________________________________\n",
            "block2_conv1 (Conv2D)        (None, 50, 50, 128)       73856     \n",
            "_________________________________________________________________\n",
            "block2_conv2 (Conv2D)        (None, 50, 50, 128)       147584    \n",
            "_________________________________________________________________\n",
            "block2_pool (MaxPooling2D)   (None, 25, 25, 128)       0         \n",
            "_________________________________________________________________\n",
            "block3_conv1 (Conv2D)        (None, 25, 25, 256)       295168    \n",
            "_________________________________________________________________\n",
            "block3_conv2 (Conv2D)        (None, 25, 25, 256)       590080    \n",
            "_________________________________________________________________\n",
            "block3_conv3 (Conv2D)        (None, 25, 25, 256)       590080    \n",
            "_________________________________________________________________\n",
            "block3_pool (MaxPooling2D)   (None, 12, 12, 256)       0         \n",
            "_________________________________________________________________\n",
            "block4_conv1 (Conv2D)        (None, 12, 12, 512)       1180160   \n",
            "_________________________________________________________________\n",
            "block4_conv2 (Conv2D)        (None, 12, 12, 512)       2359808   \n",
            "_________________________________________________________________\n",
            "block4_conv3 (Conv2D)        (None, 12, 12, 512)       2359808   \n",
            "_________________________________________________________________\n",
            "block4_pool (MaxPooling2D)   (None, 6, 6, 512)         0         \n",
            "_________________________________________________________________\n",
            "block5_conv1 (Conv2D)        (None, 6, 6, 512)         2359808   \n",
            "_________________________________________________________________\n",
            "block5_conv2 (Conv2D)        (None, 6, 6, 512)         2359808   \n",
            "_________________________________________________________________\n",
            "block5_conv3 (Conv2D)        (None, 6, 6, 512)         2359808   \n",
            "_________________________________________________________________\n",
            "block5_pool (MaxPooling2D)   (None, 3, 3, 512)         0         \n",
            "=================================================================\n",
            "Total params: 14,714,688\n",
            "Trainable params: 14,714,688\n",
            "Non-trainable params: 0\n",
            "_________________________________________________________________\n"
          ],
          "name": "stdout"
        }
      ]
    },
    {
      "cell_type": "markdown",
      "metadata": {
        "id": "O54PJTLRGQw0",
        "colab_type": "text"
      },
      "source": [
        "加载数据"
      ]
    },
    {
      "cell_type": "code",
      "metadata": {
        "id": "DSpMgsYtFTmv",
        "colab_type": "code",
        "colab": {}
      },
      "source": [
        "X = np.load(\"./drive/My Drive/DLdata/imgDataMatrix.npy\", allow_pickle=True)\n",
        "Y = np.load(\"./drive/My Drive/DLdata/imgClassMatrix.npy\", allow_pickle=True)\n",
        "name_list = np.load(\"./drive/My Drive/DLdata/imgNameMatrix.npy\")"
      ],
      "execution_count": null,
      "outputs": []
    },
    {
      "cell_type": "code",
      "metadata": {
        "id": "mYt8A9pdRSNt",
        "colab_type": "code",
        "colab": {
          "base_uri": "https://localhost:8080/",
          "height": 87
        },
        "outputId": "650180d6-177e-4018-f3cd-5977c5eecdac"
      },
      "source": [
        "print(X.shape)\n",
        "print(Y.shape)\n",
        "print(name_list.shape)"
      ],
      "execution_count": null,
      "outputs": [
        {
          "output_type": "stream",
          "text": [
            "(3647, 30000)\n",
            "(3647, 1)\n",
            "(3647, 1)\n",
            "<class 'numpy.int32'>\n"
          ],
          "name": "stdout"
        }
      ]
    },
    {
      "cell_type": "markdown",
      "metadata": {
        "id": "fKCzMuPmiBYP",
        "colab_type": "text"
      },
      "source": [
        "随机分类train、validation和test（6:2:2）\n"
      ]
    },
    {
      "cell_type": "code",
      "metadata": {
        "id": "IqwkIEP_h__4",
        "colab_type": "code",
        "colab": {}
      },
      "source": [
        "ran = np.random.random(size=(len(Y), 1))\n",
        "trainList = ran > 0.4\n",
        "testList = ran <= 0.2\n",
        "dataRow = np.concatenate((X, Y, name_list, trainList, testList), axis=1)\n",
        "X_train = dataRow[dataRow[:, X.shape[1]+2] == True][:, 0:X.shape[1]]\n",
        "Y_train = dataRow[dataRow[:, X.shape[1]+2] == True][:, X.shape[1]]\n",
        "X_val = dataRow[(dataRow[:, X.shape[1]+2] == False) & (dataRow[:, X.shape[1]+3] == False)][:, 0:X.shape[1]]\n",
        "Y_val = dataRow[(dataRow[:, X.shape[1]+2] == False) & (dataRow[:, X.shape[1]+3] == False)][:, X.shape[1]]\n",
        "X_test = dataRow[dataRow[:, X.shape[1]+3] == True][:, 0:X.shape[1]]\n",
        "Y_test = dataRow[dataRow[:, X.shape[1]+3] == True][:, X.shape[1]]\n",
        "NameList_test = dataRow[dataRow[:, X.shape[1]+3] == True][:, X.shape[1]+1]\n",
        "NameList_test = NameList_test.reshape(len(NameList_test), 1)"
      ],
      "execution_count": null,
      "outputs": []
    },
    {
      "cell_type": "markdown",
      "metadata": {
        "id": "a6AdEyIOHpAC",
        "colab_type": "text"
      },
      "source": [
        "数据预处理"
      ]
    },
    {
      "cell_type": "code",
      "metadata": {
        "id": "8SQ0FiQkh0QS",
        "colab_type": "code",
        "colab": {}
      },
      "source": [
        "# 数据预处理（size：100×100，RGB格式）\n",
        "X_train = X_train.reshape(-1, 3, 100, 100) / 255.\n",
        "X_val = X_val.reshape(-1, 3, 100, 100) / 255.\n",
        "X_test = X_test.reshape(-1, 3, 100, 100) / 255.\n",
        "# 输入改成(100, 100, 3) 手动channels_last\n",
        "X_train = np.moveaxis(X_train, 1, -1)\n",
        "X_val = np.moveaxis(X_val, 1, -1)\n",
        "X_test = np.moveaxis(X_test, 1, -1)"
      ],
      "execution_count": null,
      "outputs": []
    },
    {
      "cell_type": "code",
      "metadata": {
        "id": "zvvQVLDCSCTM",
        "colab_type": "code",
        "colab": {
          "base_uri": "https://localhost:8080/",
          "height": 69
        },
        "outputId": "62d14017-0fdd-4a3d-a6bf-8901f1c71117"
      },
      "source": [
        "print(X_train.shape[0])\n",
        "print(X_val.shape)\n",
        "print(X_test.shape)"
      ],
      "execution_count": null,
      "outputs": [
        {
          "output_type": "stream",
          "text": [
            "2185\n",
            "(745, 100, 100, 3)\n",
            "(717, 100, 100, 3)\n"
          ],
          "name": "stdout"
        }
      ]
    },
    {
      "cell_type": "markdown",
      "metadata": {
        "id": "WdukVGTLPt3y",
        "colab_type": "text"
      },
      "source": [
        "利用 ImageDataGenerator 数据增强"
      ]
    },
    {
      "cell_type": "code",
      "metadata": {
        "id": "qNuVmMeiIVor",
        "colab_type": "code",
        "colab": {}
      },
      "source": [
        "\"\"\"\n",
        "ImageDataGenerator()是keras.preprocessing.image模块中的图片生成器，同时也可以\n",
        "在batch中对数据进行增强，扩充数据集大小，增强模型的泛化能力。\n",
        "比如进行旋转，变形，归一化等等。\n",
        "\"\"\"\n",
        "\n",
        "datagen = ImageDataGenerator()\n",
        "batch_size = 20\n",
        "\n",
        "def extract_features(sample, label):\n",
        "    sample_count = sample.shape[0]\n",
        "    features = np.zeros(shape=(sample_count, 3, 3, 512))\n",
        "    labels = np.zeros(shape=(sample_count))\n",
        "    generator = datagen.flow(\n",
        "        x=sample,\n",
        "        y=label,\n",
        "        batch_size=batch_size)\n",
        "    i = 0\n",
        "    for inputs_batch, labels_batch in generator:\n",
        "        features_batch = conv_base.predict(inputs_batch)\n",
        "        features[i * batch_size : (i + 1) * batch_size] = features_batch\n",
        "        labels[i * batch_size : (i + 1) * batch_size] = labels_batch\n",
        "        i += 1\n",
        "        if i * batch_size >= sample_count:\n",
        "            # Note that since generators yield data indefinitely in a loop,\n",
        "            # we must `break` after every image has been seen once.\n",
        "            break\n",
        "    return features, labels\n",
        "\n",
        "train_features, train_labels = extract_features(X_train, Y_train)\n",
        "validation_features, validation_labels = extract_features(X_val, Y_val)\n",
        "test_features, test_labels = extract_features(X_test, Y_test)"
      ],
      "execution_count": null,
      "outputs": []
    },
    {
      "cell_type": "code",
      "metadata": {
        "id": "Z-_YpDYTI1HZ",
        "colab_type": "code",
        "colab": {
          "base_uri": "https://localhost:8080/",
          "height": 52
        },
        "outputId": "f67a5cf9-ac3d-4442-cc2f-fe800cce0e9e"
      },
      "source": [
        "print(train_features.shape)\n",
        "print(train_labels)"
      ],
      "execution_count": null,
      "outputs": [
        {
          "output_type": "stream",
          "text": [
            "(2166, 3, 3, 512)\n",
            "[1. 1. 0. ... 1. 1. 1.]\n"
          ],
          "name": "stdout"
        }
      ]
    },
    {
      "cell_type": "code",
      "metadata": {
        "id": "83WU_te9QrTQ",
        "colab_type": "code",
        "colab": {}
      },
      "source": [
        "# reshape features\n",
        "train_features = np.reshape(train_features, (X_train.shape[0], 3 * 3 * 512))\n",
        "validation_features = np.reshape(validation_features, (X_val.shape[0], 3 * 3 * 512))\n",
        "test_features = np.reshape(test_features, (X_test.shape[0], 3 * 3 * 512))"
      ],
      "execution_count": null,
      "outputs": []
    },
    {
      "cell_type": "markdown",
      "metadata": {
        "id": "Fb37dvofQNSH",
        "colab_type": "text"
      },
      "source": [
        "模型compile"
      ]
    },
    {
      "cell_type": "code",
      "metadata": {
        "id": "Yz0Qce6WQPSw",
        "colab_type": "code",
        "colab": {}
      },
      "source": [
        "from keras import models\n",
        "from keras import layers\n",
        "from keras import optimizers\n",
        "\n",
        "model = models.Sequential()\n",
        "model.add(layers.Dense(256, activation='relu', input_dim=3 * 3 * 512))\n",
        "model.add(layers.Dropout(0.5))\n",
        "model.add(layers.Dense(1, activation='sigmoid'))\n",
        "\n",
        "model.compile(optimizer=optimizers.RMSprop(lr=2e-5),\n",
        "              loss='binary_crossentropy',\n",
        "              metrics=['acc'])"
      ],
      "execution_count": null,
      "outputs": []
    },
    {
      "cell_type": "markdown",
      "metadata": {
        "id": "rklFwAmL_e8i",
        "colab_type": "text"
      },
      "source": [
        "带验证集看一下拟合情况"
      ]
    },
    {
      "cell_type": "code",
      "metadata": {
        "id": "S1irOCqA_gbJ",
        "colab_type": "code",
        "colab": {}
      },
      "source": [
        "history = model.fit(train_features, train_labels,\n",
        "                    epochs=80,\n",
        "                    batch_size=20,\n",
        "                    validation_data=(validation_features, validation_labels))"
      ],
      "execution_count": null,
      "outputs": []
    },
    {
      "cell_type": "markdown",
      "metadata": {
        "id": "4X_sFy9OSAOJ",
        "colab_type": "text"
      },
      "source": [
        "作图看一下train和val的正确率和loss"
      ]
    },
    {
      "cell_type": "code",
      "metadata": {
        "id": "Cb2_RssZSG9n",
        "colab_type": "code",
        "colab": {
          "base_uri": "https://localhost:8080/",
          "height": 545
        },
        "outputId": "e8fb7a3d-1e6e-46fa-fa99-38e9b8fc0d36"
      },
      "source": [
        "import matplotlib.pyplot as plt\n",
        "\n",
        "acc = history.history['acc']\n",
        "val_acc = history.history['val_acc']\n",
        "loss = history.history['loss']\n",
        "val_loss = history.history['val_loss']\n",
        "\n",
        "epochs = range(len(acc))\n",
        "\n",
        "plt.plot(epochs, acc, 'bo', label='Training acc')\n",
        "plt.plot(epochs, val_acc, 'b', label='Validation acc')\n",
        "plt.title('Training and validation accuracy')\n",
        "plt.legend()\n",
        "\n",
        "plt.figure()\n",
        "\n",
        "plt.plot(epochs, loss, 'bo', label='Training loss')\n",
        "plt.plot(epochs, val_loss, 'b', label='Validation loss')\n",
        "plt.title('Training and validation loss')\n",
        "plt.legend()\n",
        "\n",
        "plt.show()"
      ],
      "execution_count": null,
      "outputs": [
        {
          "output_type": "display_data",
          "data": {
            "image/png": "[encoded data removed]",
            "text/plain": [
              "<Figure size 432x288 with 1 Axes>"
            ]
          },
          "metadata": {
            "tags": [],
            "needs_background": "light"
          }
        },
        {
          "output_type": "display_data",
          "data": {
            "image/png": "[encoded data removed]",
            "text/plain": [
              "<Figure size 432x288 with 1 Axes>"
            ]
          },
          "metadata": {
            "tags": [],
            "needs_background": "light"
          }
        }
      ]
    },
    {
      "cell_type": "markdown",
      "metadata": {
        "id": "vnexSv5us8mj",
        "colab_type": "text"
      },
      "source": [
        "看看错的错在哪\n",
        "争取提高到90%\n",
        "VGG, RestNet, Inception\n",
        "8.3 跑一跑 对应“Artistic Style”\n",
        "activation visualization\n",
        "\n"
      ]
    },
    {
      "cell_type": "markdown",
      "metadata": {
        "id": "a1yCYnyA-Rwi",
        "colab_type": "text"
      },
      "source": [
        "正式训练"
      ]
    },
    {
      "cell_type": "code",
      "metadata": {
        "id": "vdtud_8x-Rbk",
        "colab_type": "code",
        "colab": {
          "base_uri": "https://localhost:8080/",
          "height": 1000
        },
        "outputId": "dacf79da-4406-49fe-8df5-7bd334f88a65"
      },
      "source": [
        "history = model.fit(train_features, train_labels,\n",
        "          epochs=50,\n",
        "          batch_size=20)"
      ],
      "execution_count": null,
      "outputs": [
        {
          "output_type": "stream",
          "text": [
            "Epoch 1/50\n",
            "2185/2185 [==============================] - 2s 994us/step - loss: 0.6406 - acc: 0.6622\n",
            "Epoch 2/50\n",
            "2185/2185 [==============================] - 2s 952us/step - loss: 0.5778 - acc: 0.7039\n",
            "Epoch 3/50\n",
            "2185/2185 [==============================] - 2s 936us/step - loss: 0.5539 - acc: 0.7144\n",
            "Epoch 4/50\n",
            "2185/2185 [==============================] - 2s 928us/step - loss: 0.5265 - acc: 0.7286\n",
            "Epoch 5/50\n",
            "2185/2185 [==============================] - 2s 938us/step - loss: 0.5167 - acc: 0.7254\n",
            "Epoch 6/50\n",
            "2185/2185 [==============================] - 2s 929us/step - loss: 0.4988 - acc: 0.7419\n",
            "Epoch 7/50\n",
            "2185/2185 [==============================] - 2s 958us/step - loss: 0.4915 - acc: 0.7455\n",
            "Epoch 8/50\n",
            "2185/2185 [==============================] - 2s 923us/step - loss: 0.4743 - acc: 0.7538\n",
            "Epoch 9/50\n",
            "2185/2185 [==============================] - 2s 936us/step - loss: 0.4612 - acc: 0.7767\n",
            "Epoch 10/50\n",
            "2185/2185 [==============================] - 2s 935us/step - loss: 0.4557 - acc: 0.7771\n",
            "Epoch 11/50\n",
            "2185/2185 [==============================] - 2s 960us/step - loss: 0.4474 - acc: 0.7831\n",
            "Epoch 12/50\n",
            "2185/2185 [==============================] - 2s 924us/step - loss: 0.4426 - acc: 0.7913\n",
            "Epoch 13/50\n",
            "2185/2185 [==============================] - 2s 941us/step - loss: 0.4347 - acc: 0.7941\n",
            "Epoch 14/50\n",
            "2185/2185 [==============================] - 2s 951us/step - loss: 0.4288 - acc: 0.8014\n",
            "Epoch 15/50\n",
            "2185/2185 [==============================] - 2s 915us/step - loss: 0.4252 - acc: 0.8027\n",
            "Epoch 16/50\n",
            "2185/2185 [==============================] - 2s 1ms/step - loss: 0.4205 - acc: 0.8046\n",
            "Epoch 17/50\n",
            "2185/2185 [==============================] - 2s 955us/step - loss: 0.4169 - acc: 0.8032\n",
            "Epoch 18/50\n",
            "2185/2185 [==============================] - 2s 918us/step - loss: 0.4106 - acc: 0.8169\n",
            "Epoch 19/50\n",
            "2185/2185 [==============================] - 2s 887us/step - loss: 0.4080 - acc: 0.8082\n",
            "Epoch 20/50\n",
            "2185/2185 [==============================] - 2s 925us/step - loss: 0.4082 - acc: 0.8128\n",
            "Epoch 21/50\n",
            "2185/2185 [==============================] - 2s 955us/step - loss: 0.4031 - acc: 0.8183\n",
            "Epoch 22/50\n",
            "2185/2185 [==============================] - 2s 964us/step - loss: 0.3971 - acc: 0.8188\n",
            "Epoch 23/50\n",
            "2185/2185 [==============================] - 2s 930us/step - loss: 0.3939 - acc: 0.8243\n",
            "Epoch 24/50\n",
            "2185/2185 [==============================] - 2s 949us/step - loss: 0.3958 - acc: 0.8243\n",
            "Epoch 25/50\n",
            "2185/2185 [==============================] - 2s 1ms/step - loss: 0.3890 - acc: 0.8178\n",
            "Epoch 26/50\n",
            "2185/2185 [==============================] - 2s 1ms/step - loss: 0.3882 - acc: 0.8302\n",
            "Epoch 27/50\n",
            "2185/2185 [==============================] - 2s 924us/step - loss: 0.3823 - acc: 0.8371\n",
            "Epoch 28/50\n",
            "2185/2185 [==============================] - 2s 967us/step - loss: 0.3858 - acc: 0.8265\n",
            "Epoch 29/50\n",
            "2185/2185 [==============================] - 2s 929us/step - loss: 0.3802 - acc: 0.8316\n",
            "Epoch 30/50\n",
            "2185/2185 [==============================] - 2s 988us/step - loss: 0.3815 - acc: 0.8307\n",
            "Epoch 31/50\n",
            "2185/2185 [==============================] - 2s 953us/step - loss: 0.3741 - acc: 0.8320\n",
            "Epoch 32/50\n",
            "2185/2185 [==============================] - 2s 977us/step - loss: 0.3785 - acc: 0.8352\n",
            "Epoch 33/50\n",
            "2185/2185 [==============================] - 2s 983us/step - loss: 0.3727 - acc: 0.8389\n",
            "Epoch 34/50\n",
            "2185/2185 [==============================] - 2s 961us/step - loss: 0.3716 - acc: 0.8311\n",
            "Epoch 35/50\n",
            "2185/2185 [==============================] - 2s 956us/step - loss: 0.3728 - acc: 0.8334\n",
            "Epoch 36/50\n",
            "2185/2185 [==============================] - 2s 918us/step - loss: 0.3696 - acc: 0.8311\n",
            "Epoch 37/50\n",
            "2185/2185 [==============================] - 2s 937us/step - loss: 0.3652 - acc: 0.8426\n",
            "Epoch 38/50\n",
            "2185/2185 [==============================] - 2s 960us/step - loss: 0.3659 - acc: 0.8416\n",
            "Epoch 39/50\n",
            "2185/2185 [==============================] - 2s 920us/step - loss: 0.3627 - acc: 0.8430\n",
            "Epoch 40/50\n",
            "2185/2185 [==============================] - 2s 949us/step - loss: 0.3569 - acc: 0.8490\n",
            "Epoch 41/50\n",
            "2185/2185 [==============================] - 2s 976us/step - loss: 0.3581 - acc: 0.8439\n",
            "Epoch 42/50\n",
            "2185/2185 [==============================] - 2s 1ms/step - loss: 0.3590 - acc: 0.8444\n",
            "Epoch 43/50\n",
            "2185/2185 [==============================] - 2s 1ms/step - loss: 0.3551 - acc: 0.8389\n",
            "Epoch 44/50\n",
            "2185/2185 [==============================] - 2s 966us/step - loss: 0.3567 - acc: 0.8439\n",
            "Epoch 45/50\n",
            "2185/2185 [==============================] - 2s 962us/step - loss: 0.3504 - acc: 0.8462\n",
            "Epoch 46/50\n",
            "2185/2185 [==============================] - 2s 994us/step - loss: 0.3519 - acc: 0.8444\n",
            "Epoch 47/50\n",
            "2185/2185 [==============================] - 2s 948us/step - loss: 0.3492 - acc: 0.8471\n",
            "Epoch 48/50\n",
            "2185/2185 [==============================] - 2s 1ms/step - loss: 0.3530 - acc: 0.8439\n",
            "Epoch 49/50\n",
            "2185/2185 [==============================] - 2s 982us/step - loss: 0.3518 - acc: 0.8499\n",
            "Epoch 50/50\n",
            "2185/2185 [==============================] - 2s 1ms/step - loss: 0.3464 - acc: 0.8471\n"
          ],
          "name": "stdout"
        },
        {
          "output_type": "execute_result",
          "data": {
            "text/plain": [
              "<keras.callbacks.callbacks.History at 0x7fe004f17198>"
            ]
          },
          "metadata": {
            "tags": []
          },
          "execution_count": 24
        }
      ]
    },
    {
      "cell_type": "markdown",
      "metadata": {
        "id": "UimcTdg4_7oc",
        "colab_type": "text"
      },
      "source": [
        "测试 查看正确率和损失，查看错误样例"
      ]
    },
    {
      "cell_type": "code",
      "metadata": {
        "id": "O0NOC0l2_89S",
        "colab_type": "code",
        "colab": {
          "base_uri": "https://localhost:8080/",
          "height": 295
        },
        "outputId": "ef338d93-0a80-42fd-c245-2ccf48257014"
      },
      "source": [
        "# evaluation\n",
        "loss, accuracy = model.evaluate(test_features, test_labels)\n",
        "\n",
        "print('\\ntest loss: ', loss)\n",
        "print('\\ntest accuracy: ', accuracy)\n",
        "\n",
        "\n",
        "# 查看具体错误样例\n",
        "predict_result = model.predict(test_features)\n",
        "test_labels = test_labels.reshape(len(test_labels),1)\n",
        "loss_tmp = abs(predict_result - test_labels)\n",
        "judge = loss_tmp < 0.5\n",
        "NameList_test = NameList_test.reshape(len(NameList_test), 1)\n",
        "error_list = np.concatenate((NameList_test, judge), axis=1)\n",
        "error_list = error_list[error_list[:, 1] == 0][:, 0]\n",
        "errorItmNum = len(error_list)\n",
        "print(errorItmNum)\n",
        "print(error_list)"
      ],
      "execution_count": null,
      "outputs": [
        {
          "output_type": "stream",
          "text": [
            "717/717 [==============================] - 0s 183us/step\n",
            "\n",
            "test loss:  0.38101008985414997\n",
            "\n",
            "test accuracy:  0.8131101727485657\n",
            "134\n",
            "[1072  118  136  139  151  194  206  211  281  284  297  307  317  322\n",
            "   37  377  443  493   51  511  528  532  538  546  552  593  594  636\n",
            "  659  668  726  744  749  759  763  766  817  888  917  922  924  930\n",
            "  938  956  973 1179 1232 1246 1254 1260 1263 1270 1276 1356 1363 1470\n",
            " 1496 1541 1561 1600 1615 1637 1681 1682 1718 1737 1744 1745 1789 1798\n",
            " 1836 1845 1850 1851 1911 1962 2007 2010 2037 2096 2142 2189 2194 2246\n",
            " 2267 2295 2297 2301 2311 2312 2320 2324 2335 2337 2347 2362 2374 2417\n",
            " 2447 2486 2506 2607 2611 2657 2667 2687 2690 2702 2776 2811 2836 2858\n",
            " 2947 2972 3023 3036 3047 3077 3087 3116 3146 3171 3188 3209 3237 3252\n",
            " 3257 3263 3268 3318 3435 3467 3476 3542]\n"
          ],
          "name": "stdout"
        }
      ]
    },
    {
      "cell_type": "markdown",
      "metadata": {
        "id": "9uOVUp1MTrtN",
        "colab_type": "text"
      },
      "source": [
        "打印错误样例"
      ]
    },
    {
      "cell_type": "code",
      "metadata": {
        "id": "7q94xLuRRY9F",
        "colab_type": "code",
        "colab": {
          "base_uri": "https://localhost:8080/",
          "height": 72
        },
        "outputId": "57615ab9-5ca2-4d5a-cb3d-92561656e7df"
      },
      "source": [
        "from PIL import Image\n",
        "import math\n",
        "# 图片名称集\n",
        "errorNameList = []\n",
        "for i in range(0, len(error_list)):\n",
        "  errorNameList.append(str(error_list[i]) + \".jpg\")\n",
        "imgPath = \"./drive/My Drive/DLdata/img_thumb/\"\n",
        "imgSize = 100   # 图片大小\n",
        "imgCol = math.floor(math.sqrt(errorItmNum)) + 1   # 列数\n",
        "if imgCol * (imgCol - 1) >= errorItmNum:\n",
        "  imgRow = imgCol - 1\n",
        "else:\n",
        "  imgRow = imgCol   # 行数\n",
        "print((str(imgCol) + \" \" + str(imgRow)))\n",
        "\n",
        "# 创建新图片\n",
        "to_image = Image.new('RGB', (imgCol * imgSize, imgRow * imgSize))\n",
        "to_image.show()\n",
        "for y in range(1, imgRow + 1):\n",
        "  for x in range(1, imgCol + 1):\n",
        "    if 12 * (y - 1) + x <= errorItmNum:\n",
        "      from_image = Image.open(imgPath + errorNameList[imgCol * (y - 1) + x - 1]).resize(\n",
        "          (imgSize, imgSize), Image.ANTIALIAS)\n",
        "      to_image.paste(from_image, ((x - 1) * imgSize, (y - 1) * imgSize))\n",
        "    else:\n",
        "      break\n",
        "to_image.save(\"./drive/My Drive/DLdata/errorImg.jpg\")"
      ],
      "execution_count": null,
      "outputs": [
        {
          "output_type": "stream",
          "text": [
            "['1072.jpg', '118.jpg', '136.jpg', '139.jpg', '151.jpg', '194.jpg', '206.jpg', '211.jpg', '281.jpg', '284.jpg', '297.jpg', '307.jpg', '317.jpg', '322.jpg', '37.jpg', '377.jpg', '443.jpg', '493.jpg', '51.jpg', '511.jpg', '528.jpg', '532.jpg', '538.jpg', '546.jpg', '552.jpg', '593.jpg', '594.jpg', '636.jpg', '659.jpg', '668.jpg', '726.jpg', '744.jpg', '749.jpg', '759.jpg', '763.jpg', '766.jpg', '817.jpg', '888.jpg', '917.jpg', '922.jpg', '924.jpg', '930.jpg', '938.jpg', '956.jpg', '973.jpg', '1179.jpg', '1232.jpg', '1246.jpg', '1254.jpg', '1260.jpg', '1263.jpg', '1270.jpg', '1276.jpg', '1356.jpg', '1363.jpg', '1470.jpg', '1496.jpg', '1541.jpg', '1561.jpg', '1600.jpg', '1615.jpg', '1637.jpg', '1681.jpg', '1682.jpg', '1718.jpg', '1737.jpg', '1744.jpg', '1745.jpg', '1789.jpg', '1798.jpg', '1836.jpg', '1845.jpg', '1850.jpg', '1851.jpg', '1911.jpg', '1962.jpg', '2007.jpg', '2010.jpg', '2037.jpg', '2096.jpg', '2142.jpg', '2189.jpg', '2194.jpg', '2246.jpg', '2267.jpg', '2295.jpg', '2297.jpg', '2301.jpg', '2311.jpg', '2312.jpg', '2320.jpg', '2324.jpg', '2335.jpg', '2337.jpg', '2347.jpg', '2362.jpg', '2374.jpg', '2417.jpg', '2447.jpg', '2486.jpg', '2506.jpg', '2607.jpg', '2611.jpg', '2657.jpg', '2667.jpg', '2687.jpg', '2690.jpg', '2702.jpg', '2776.jpg', '2811.jpg', '2836.jpg', '2858.jpg', '2947.jpg', '2972.jpg', '3023.jpg', '3036.jpg', '3047.jpg', '3077.jpg', '3087.jpg', '3116.jpg', '3146.jpg', '3171.jpg', '3188.jpg', '3209.jpg', '3237.jpg', '3252.jpg', '3257.jpg', '3263.jpg', '3268.jpg', '3318.jpg', '3435.jpg', '3467.jpg', '3476.jpg', '3542.jpg']\n",
            "12 12\n"
          ],
          "name": "stdout"
        }
      ]
    }
  ]
}